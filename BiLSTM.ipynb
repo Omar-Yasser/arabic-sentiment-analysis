{
 "cells": [
  {
   "cell_type": "code",
   "execution_count": 1,
   "metadata": {},
   "outputs": [
    {
     "name": "stdout",
     "output_type": "stream",
     "text": [
      "WARNING:tensorflow:From d:\\anaconda3\\Lib\\site-packages\\keras\\src\\losses.py:2976: The name tf.losses.sparse_softmax_cross_entropy is deprecated. Please use tf.compat.v1.losses.sparse_softmax_cross_entropy instead.\n",
      "\n",
      "[[1. 0. 0.]\n",
      " [0. 0. 1.]\n",
      " [1. 0. 0.]\n",
      " ...\n",
      " [1. 0. 0.]\n",
      " [1. 0. 0.]\n",
      " [0. 0. 1.]] [1. 0. 0.]\n"
     ]
    }
   ],
   "source": [
    "import pandas as pd\n",
    "import tensorflow as tf\n",
    "from keras.preprocessing.sequence import pad_sequences\n",
    "from keras.preprocessing.text import Tokenizer\n",
    "from keras.utils import to_categorical\n",
    "# Load the preprocessed dataset\n",
    "df = pd.read_csv('preprocessed_train.csv')\n",
    "\n",
    "# Drop rows with NaN values in the 'preprocessed_review' column\n",
    "df = df.dropna(subset=['preprocessed_review'])\n",
    "\n",
    "# Convert ratings to one-hot encoded labels\n",
    "labels = to_categorical(df['rating'] + 1)  # Adding 1 to convert -1, 0, 1 to 0, 1, 2\n",
    "print(labels, labels[0])\n",
    "# Tokenize the Arabic text\n",
    "tokenizer_arabic = Tokenizer()\n",
    "tokenizer_arabic.fit_on_texts(df['preprocessed_review'])\n",
    "sequences_arabic = tokenizer_arabic.texts_to_sequences(df['preprocessed_review'])\n",
    "max_sequence_length = 100  # Set your desired sequence length\n",
    "padded_sequences_arabic = pad_sequences(sequences_arabic, maxlen=max_sequence_length)\n"
   ]
  },
  {
   "cell_type": "code",
   "execution_count": 2,
   "metadata": {},
   "outputs": [
    {
     "name": "stdout",
     "output_type": "stream",
     "text": [
      "WARNING:tensorflow:From d:\\anaconda3\\Lib\\site-packages\\keras\\src\\backend.py:873: The name tf.get_default_graph is deprecated. Please use tf.compat.v1.get_default_graph instead.\n",
      "\n"
     ]
    },
    {
     "name": "stderr",
     "output_type": "stream",
     "text": [
      "WARNING:absl:`lr` is deprecated in Keras optimizer, please use `learning_rate` or use the legacy optimizer, e.g.,tf.keras.optimizers.legacy.Adam.\n"
     ]
    },
    {
     "name": "stdout",
     "output_type": "stream",
     "text": [
      "Model: \"sequential\"\n",
      "_________________________________________________________________\n",
      " Layer (type)                Output Shape              Param #   \n",
      "=================================================================\n",
      " embedding (Embedding)       (None, 100, 128)          3003520   \n",
      "                                                                 \n",
      " bidirectional (Bidirection  (None, 100, 128)          98816     \n",
      " al)                                                             \n",
      "                                                                 \n",
      " dropout (Dropout)           (None, 100, 128)          0         \n",
      "                                                                 \n",
      " bidirectional_1 (Bidirecti  (None, 64)                41216     \n",
      " onal)                                                           \n",
      "                                                                 \n",
      " dropout_1 (Dropout)         (None, 64)                0         \n",
      "                                                                 \n",
      " dense (Dense)               (None, 32)                2080      \n",
      "                                                                 \n",
      " dense_1 (Dense)             (None, 3)                 99        \n",
      "                                                                 \n",
      "=================================================================\n",
      "Total params: 3145731 (12.00 MB)\n",
      "Trainable params: 3145731 (12.00 MB)\n",
      "Non-trainable params: 0 (0.00 Byte)\n",
      "_________________________________________________________________\n",
      "Epoch 1/10\n",
      "WARNING:tensorflow:From d:\\anaconda3\\Lib\\site-packages\\keras\\src\\utils\\tf_utils.py:492: The name tf.ragged.RaggedTensorValue is deprecated. Please use tf.compat.v1.ragged.RaggedTensorValue instead.\n",
      "\n"
     ]
    },
    {
     "name": "stderr",
     "output_type": "stream",
     "text": [
      "WARNING:tensorflow:From d:\\anaconda3\\Lib\\site-packages\\keras\\src\\utils\\tf_utils.py:492: The name tf.ragged.RaggedTensorValue is deprecated. Please use tf.compat.v1.ragged.RaggedTensorValue instead.\n",
      "\n"
     ]
    },
    {
     "name": "stdout",
     "output_type": "stream",
     "text": [
      "WARNING:tensorflow:From d:\\anaconda3\\Lib\\site-packages\\keras\\src\\engine\\base_layer_utils.py:384: The name tf.executing_eagerly_outside_functions is deprecated. Please use tf.compat.v1.executing_eagerly_outside_functions instead.\n",
      "\n"
     ]
    },
    {
     "name": "stderr",
     "output_type": "stream",
     "text": [
      "WARNING:tensorflow:From d:\\anaconda3\\Lib\\site-packages\\keras\\src\\engine\\base_layer_utils.py:384: The name tf.executing_eagerly_outside_functions is deprecated. Please use tf.compat.v1.executing_eagerly_outside_functions instead.\n",
      "\n"
     ]
    },
    {
     "name": "stdout",
     "output_type": "stream",
     "text": [
      "773/773 [==============================] - 114s 134ms/step - loss: 0.5329 - accuracy: 0.8020 - val_loss: 0.4726 - val_accuracy: 0.8390\n",
      "Epoch 2/10\n",
      "773/773 [==============================] - 159s 206ms/step - loss: 0.3599 - accuracy: 0.8768 - val_loss: 0.4793 - val_accuracy: 0.8275\n",
      "Epoch 3/10\n",
      "773/773 [==============================] - 162s 209ms/step - loss: 0.2740 - accuracy: 0.9054 - val_loss: 0.5271 - val_accuracy: 0.8175\n",
      "Epoch 4/10\n",
      "773/773 [==============================] - 162s 209ms/step - loss: 0.2172 - accuracy: 0.9269 - val_loss: 0.5887 - val_accuracy: 0.8108\n",
      "Epoch 5/10\n",
      "773/773 [==============================] - 164s 213ms/step - loss: 0.1770 - accuracy: 0.9423 - val_loss: 0.6449 - val_accuracy: 0.8081\n",
      "Epoch 6/10\n",
      "773/773 [==============================] - 163s 211ms/step - loss: 0.1480 - accuracy: 0.9517 - val_loss: 0.7066 - val_accuracy: 0.7979\n",
      "Epoch 7/10\n",
      "773/773 [==============================] - 164s 213ms/step - loss: 0.1262 - accuracy: 0.9581 - val_loss: 0.7592 - val_accuracy: 0.8000\n",
      "Epoch 8/10\n",
      "773/773 [==============================] - 162s 210ms/step - loss: 0.1078 - accuracy: 0.9635 - val_loss: 0.8859 - val_accuracy: 0.8076\n",
      "Epoch 9/10\n",
      "773/773 [==============================] - 107s 138ms/step - loss: 0.1034 - accuracy: 0.9657 - val_loss: 0.8092 - val_accuracy: 0.8026\n",
      "Epoch 10/10\n",
      "773/773 [==============================] - 70s 91ms/step - loss: 0.0984 - accuracy: 0.9673 - val_loss: 0.9058 - val_accuracy: 0.7937\n"
     ]
    },
    {
     "data": {
      "text/plain": [
       "<keras.src.callbacks.History at 0x1bb124f9250>"
      ]
     },
     "execution_count": 2,
     "metadata": {},
     "output_type": "execute_result"
    }
   ],
   "source": [
    "import tensorflow as tf\n",
    "from keras.models import Sequential\n",
    "from keras.layers import Embedding, Bidirectional, LSTM, Dense, Dropout\n",
    "from keras.optimizers import Adam\n",
    "from keras.preprocessing.sequence import pad_sequences\n",
    "from keras.preprocessing.text import Tokenizer\n",
    "from keras.utils import to_categorical\n",
    "import pandas as pd\n",
    "\n",
    "# Load and preprocess your data\n",
    "# Assuming df is your preprocessed dataset with columns: 'preprocessed_review' and 'rating'\n",
    "\n",
    "# Load the preprocessed dataset\n",
    "df = pd.read_csv('preprocessed_train.csv')\n",
    "\n",
    "# Drop rows with NaN values in the 'preprocessed_review' column\n",
    "df = df.dropna(subset=['preprocessed_review'])\n",
    "\n",
    "# Convert ratings to categorical labels\n",
    "labels = to_categorical(df['rating'] + 1)  # Adding 1 to convert -1, 0, 1 to 0, 1, 2\n",
    "\n",
    "# Tokenize the preprocessed reviews\n",
    "tokenizer = Tokenizer()\n",
    "tokenizer.fit_on_texts(df['preprocessed_review'])\n",
    "sequences = tokenizer.texts_to_sequences(df['preprocessed_review'])\n",
    "max_sequence_length = 100  # Set your desired sequence length\n",
    "padded_sequences = pad_sequences(sequences, maxlen=max_sequence_length)\n",
    "\n",
    "# Define the BiLSTM model\n",
    "vocab_size = len(tokenizer.word_index) + 1  # Vocabulary size\n",
    "\n",
    "model = Sequential()\n",
    "model.add(Embedding(input_dim=vocab_size, output_dim=128, input_length=max_sequence_length))\n",
    "model.add(Bidirectional(LSTM(units=64, return_sequences=True)))  # BiLSTM layer\n",
    "model.add(Dropout(0.2))\n",
    "model.add(Bidirectional(LSTM(units=32)))  # BiLSTM layer\n",
    "model.add(Dropout(0.2))\n",
    "model.add(Dense(32, activation='relu'))\n",
    "model.add(Dense(3, activation='softmax'))  # Output layer with 3 classes\n",
    "\n",
    "# Compile the model\n",
    "model.compile(loss='categorical_crossentropy', optimizer=Adam(lr=0.001), metrics=['accuracy'])\n",
    "\n",
    "# Display the model summary\n",
    "model.summary()\n",
    "\n",
    "# Train the model with your padded_sequences and labels\n",
    "model.fit(padded_sequences, labels, epochs=10, batch_size=32, validation_split=0.2)\n"
   ]
  },
  {
   "cell_type": "code",
   "execution_count": 3,
   "metadata": {},
   "outputs": [
    {
     "name": "stdout",
     "output_type": "stream",
     "text": [
      "Training Accuracy: 0.9388\n"
     ]
    }
   ],
   "source": [
    "# show the accuracy of the model\n",
    "loss, accuracy = model.evaluate(padded_sequences_arabic, labels, verbose=False)\n",
    "\n",
    "print(\"Training Accuracy: {:.4f}\".format(accuracy))"
   ]
  }
 ],
 "metadata": {
  "kernelspec": {
   "display_name": "base",
   "language": "python",
   "name": "python3"
  },
  "language_info": {
   "codemirror_mode": {
    "name": "ipython",
    "version": 3
   },
   "file_extension": ".py",
   "mimetype": "text/x-python",
   "name": "python",
   "nbconvert_exporter": "python",
   "pygments_lexer": "ipython3",
   "version": "3.11.5"
  }
 },
 "nbformat": 4,
 "nbformat_minor": 2
}
