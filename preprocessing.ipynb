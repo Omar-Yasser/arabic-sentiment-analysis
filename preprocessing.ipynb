{
 "cells": [
  {
   "cell_type": "markdown",
   "metadata": {},
   "source": [
    "### Import Libraries"
   ]
  },
  {
   "cell_type": "code",
   "execution_count": 22,
   "metadata": {},
   "outputs": [
    {
     "name": "stderr",
     "output_type": "stream",
     "text": [
      "[nltk_data] Downloading package punkt to /home/madboly/nltk_data...\n",
      "[nltk_data]   Package punkt is already up-to-date!\n",
      "[nltk_data] Downloading package wordnet to /home/madboly/nltk_data...\n",
      "[nltk_data]   Package wordnet is already up-to-date!\n",
      "[nltk_data] Downloading package stopwords to\n",
      "[nltk_data]     /home/madboly/nltk_data...\n",
      "[nltk_data]   Package stopwords is already up-to-date!\n"
     ]
    },
    {
     "data": {
      "text/plain": [
       "True"
      ]
     },
     "execution_count": 22,
     "metadata": {},
     "output_type": "execute_result"
    }
   ],
   "source": [
    "import pandas as pd\n",
    "import matplotlib.pyplot as plt\n",
    "import seaborn as sns\n",
    "import re\n",
    "import string\n",
    "import matplotlib.pyplot as plt\n",
    "from wordcloud import WordCloud\n",
    "from collections import Counter\n",
    "from arabic_reshaper import ArabicReshaper\n",
    "from bidi.algorithm import get_display\n",
    "import nltk\n",
    "import emoji\n",
    "import csv\n",
    "from langdetect import detect\n",
    "from nltk.corpus import stopwords\n",
    "from nltk.tokenize import word_tokenize\n",
    "from nltk.stem import WordNetLemmatizer\n",
    "from qalsadi import lemmatizer\n",
    "\n",
    "nltk.download('punkt')\n",
    "nltk.download('wordnet')\n",
    "nltk.download('stopwords')"
   ]
  },
  {
   "cell_type": "markdown",
   "metadata": {},
   "source": [
    "### Load Data"
   ]
  },
  {
   "cell_type": "code",
   "execution_count": 23,
   "metadata": {},
   "outputs": [],
   "source": [
    "file_path = 'test.csv'\n",
    "data = pd.read_csv(file_path)\n",
    "data['review_description'] = data['review_description'].apply(lambda x: x.encode('utf-8').decode('utf-8'))\n",
    "data['review_description'] = data['review_description'].astype(str)"
   ]
  },
  {
   "cell_type": "code",
   "execution_count": 24,
   "metadata": {},
   "outputs": [
    {
     "name": "stdout",
     "output_type": "stream",
     "text": [
      "<class 'pandas.core.frame.DataFrame'>\n",
      "RangeIndex: 1000 entries, 0 to 999\n",
      "Data columns (total 2 columns):\n",
      " #   Column              Non-Null Count  Dtype \n",
      "---  ------              --------------  ----- \n",
      " 0   ID                  1000 non-null   int64 \n",
      " 1   review_description  1000 non-null   object\n",
      "dtypes: int64(1), object(1)\n",
      "memory usage: 15.8+ KB\n"
     ]
    }
   ],
   "source": [
    "data.info()"
   ]
  },
  {
   "cell_type": "code",
   "execution_count": 25,
   "metadata": {},
   "outputs": [
    {
     "data": {
      "text/html": [
       "<div>\n",
       "<style scoped>\n",
       "    .dataframe tbody tr th:only-of-type {\n",
       "        vertical-align: middle;\n",
       "    }\n",
       "\n",
       "    .dataframe tbody tr th {\n",
       "        vertical-align: top;\n",
       "    }\n",
       "\n",
       "    .dataframe thead th {\n",
       "        text-align: right;\n",
       "    }\n",
       "</style>\n",
       "<table border=\"1\" class=\"dataframe\">\n",
       "  <thead>\n",
       "    <tr style=\"text-align: right;\">\n",
       "      <th></th>\n",
       "      <th>ID</th>\n",
       "      <th>review_description</th>\n",
       "    </tr>\n",
       "  </thead>\n",
       "  <tbody>\n",
       "    <tr>\n",
       "      <th>0</th>\n",
       "      <td>1</td>\n",
       "      <td>اهنئكم على خدمه العملاء في المحادثه المباشره م...</td>\n",
       "    </tr>\n",
       "    <tr>\n",
       "      <th>1</th>\n",
       "      <td>2</td>\n",
       "      <td>ممتاز جدا ولكن اتمنى ان تكون هناك بعض المسابقا...</td>\n",
       "    </tr>\n",
       "    <tr>\n",
       "      <th>2</th>\n",
       "      <td>3</td>\n",
       "      <td>كل محملته يقول تم ايقاف حطيت2 عشان تسوون الخطاء</td>\n",
       "    </tr>\n",
       "    <tr>\n",
       "      <th>3</th>\n",
       "      <td>4</td>\n",
       "      <td>شغل طيب</td>\n",
       "    </tr>\n",
       "    <tr>\n",
       "      <th>4</th>\n",
       "      <td>5</td>\n",
       "      <td>بعد ماجربت</td>\n",
       "    </tr>\n",
       "  </tbody>\n",
       "</table>\n",
       "</div>"
      ],
      "text/plain": [
       "   ID                                 review_description\n",
       "0   1  اهنئكم على خدمه العملاء في المحادثه المباشره م...\n",
       "1   2  ممتاز جدا ولكن اتمنى ان تكون هناك بعض المسابقا...\n",
       "2   3    كل محملته يقول تم ايقاف حطيت2 عشان تسوون الخطاء\n",
       "3   4                                            شغل طيب\n",
       "4   5                                         بعد ماجربت"
      ]
     },
     "execution_count": 25,
     "metadata": {},
     "output_type": "execute_result"
    }
   ],
   "source": [
    "data.head()"
   ]
  },
  {
   "cell_type": "markdown",
   "metadata": {},
   "source": [
    "### Basic preprocessing"
   ]
  },
  {
   "cell_type": "markdown",
   "metadata": {},
   "source": [
    "##### Checking for null values"
   ]
  },
  {
   "cell_type": "code",
   "execution_count": 26,
   "metadata": {},
   "outputs": [
    {
     "data": {
      "text/plain": [
       "ID                    0\n",
       "review_description    0\n",
       "dtype: int64"
      ]
     },
     "execution_count": 26,
     "metadata": {},
     "output_type": "execute_result"
    }
   ],
   "source": [
    "data.isnull().sum()"
   ]
  },
  {
   "cell_type": "markdown",
   "metadata": {
    "tags": [
     "parameters"
    ]
   },
   "source": [
    "##### Lowercase "
   ]
  },
  {
   "cell_type": "code",
   "execution_count": 27,
   "metadata": {},
   "outputs": [],
   "source": [
    "data['preprocessed_review'] = data['review_description'].str.lower()"
   ]
  },
  {
   "cell_type": "markdown",
   "metadata": {},
   "source": [
    "##### Dealing with duplicated reviews\n"
   ]
  },
  {
   "cell_type": "code",
   "execution_count": 28,
   "metadata": {},
   "outputs": [
    {
     "data": {
      "text/plain": [
       "0"
      ]
     },
     "execution_count": 28,
     "metadata": {},
     "output_type": "execute_result"
    }
   ],
   "source": [
    "data.duplicated().sum()"
   ]
  },
  {
   "cell_type": "code",
   "execution_count": 29,
   "metadata": {},
   "outputs": [
    {
     "data": {
      "text/plain": [
       "0"
      ]
     },
     "execution_count": 29,
     "metadata": {},
     "output_type": "execute_result"
    }
   ],
   "source": [
    "data = data.drop_duplicates(subset='preprocessed_review')\n",
    "data.duplicated().sum()"
   ]
  },
  {
   "cell_type": "markdown",
   "metadata": {},
   "source": [
    "### Cleaning text"
   ]
  },
  {
   "cell_type": "code",
   "execution_count": 30,
   "metadata": {},
   "outputs": [],
   "source": [
    "def remove_punctuation(text):\n",
    "    punctuations = '''`÷×؛<>_()*&^%][ـ،/:\"؟.,'{}~¦+|!”…“–ـ''' + string.punctuation\n",
    "    text = re.sub('[%s]' % re.escape(punctuations), ' ', text)\n",
    "    return text"
   ]
  },
  {
   "cell_type": "code",
   "execution_count": 31,
   "metadata": {},
   "outputs": [],
   "source": [
    "def remove_digits(text):\n",
    "    return re.sub('\\d+', '', text)"
   ]
  },
  {
   "cell_type": "code",
   "execution_count": 32,
   "metadata": {},
   "outputs": [],
   "source": [
    "def remove_diacritics(text):\n",
    "    return re.sub(r\"[ًًٌٍَُِّْ]\", \"\", text)"
   ]
  },
  {
   "cell_type": "code",
   "execution_count": 33,
   "metadata": {},
   "outputs": [],
   "source": [
    "def normalize_arabic(text):\n",
    "    text = re.sub(\"[إأآا]\", \"ا\", text)\n",
    "    text = re.sub(\"[يى]\", \"ي\", text) \n",
    "    text = re.sub(\"[ؤئ]\", \"ء\", text) \n",
    "    text = re.sub(\"ة\", \"ه\", text)\n",
    "    text = re.sub(\"ـ\", \"\", text)\n",
    "    text = re.sub(\"گ\", \"ك\", text)\n",
    "    return text"
   ]
  },
  {
   "cell_type": "code",
   "execution_count": 34,
   "metadata": {},
   "outputs": [],
   "source": [
    "def remove_repeating_char(text):\n",
    "    # Remove 3+ repeated consecutive characters\n",
    "    return re.sub(r'(.)\\1{2,}', r'\\1', text)"
   ]
  },
  {
   "cell_type": "code",
   "execution_count": 35,
   "metadata": {},
   "outputs": [],
   "source": [
    "def remove_long_words(text, threshold=15):\n",
    "    return ' '.join(word for word in text.split(\" \") if len(word) < threshold)"
   ]
  },
  {
   "cell_type": "markdown",
   "metadata": {},
   "source": [
    "#### Remove stopwords"
   ]
  },
  {
   "cell_type": "code",
   "execution_count": 36,
   "metadata": {},
   "outputs": [
    {
     "data": {
      "text/plain": [
       "933"
      ]
     },
     "execution_count": 36,
     "metadata": {},
     "output_type": "execute_result"
    }
   ],
   "source": [
    "stopwords_list = stopwords.words(\"english\") + stopwords.words(\"arabic\")\n",
    "len(stopwords_list)"
   ]
  },
  {
   "cell_type": "code",
   "execution_count": 37,
   "metadata": {},
   "outputs": [],
   "source": [
    "def remove_stopwords(text):\n",
    "    text = ' '.join([word for word in word_tokenize(text) if word not in stopwords_list])\n",
    "    return text"
   ]
  },
  {
   "cell_type": "markdown",
   "metadata": {},
   "source": [
    "#### Replace emojis"
   ]
  },
  {
   "cell_type": "code",
   "execution_count": 38,
   "metadata": {},
   "outputs": [],
   "source": [
    "\"\"\"\n",
    "Source:\n",
    "https://github.com/a-ibrahimi/Arabic-Emojipedia\n",
    "https://stackoverflow.com/a/76419165/13218954\n",
    "\"\"\"\n",
    "def build_emoji_dictionary():\n",
    "    csv_file = 'emojis.csv'\n",
    "    emoji_dict = {}\n",
    "    with open(csv_file, 'r', encoding='utf-8') as file:\n",
    "        reader = csv.reader(file)\n",
    "        for row in reader:\n",
    "            emoji = row[0]\n",
    "            text = row[1]\n",
    "            emoji_dict[emoji] = text\n",
    "    return emoji_dict\n",
    "\n",
    "def replace_emojis(text):\n",
    "    emoji_dict = build_emoji_dictionary()\n",
    "    emojis = emoji.emoji_list(text)\n",
    "    for emo in emojis:\n",
    "        if emo['emoji'] in emoji_dict:\n",
    "            # Replace the emoji with the corresponding text surrounded by spaces\n",
    "            text = text.replace(emo['emoji'], ' ' + emoji_dict[emo['emoji']] + ' ')\n",
    "    return text"
   ]
  },
  {
   "cell_type": "markdown",
   "metadata": {},
   "source": [
    "#### Lemmatization"
   ]
  },
  {
   "cell_type": "code",
   "execution_count": 39,
   "metadata": {},
   "outputs": [],
   "source": [
    "wordnet_lemmatizer = WordNetLemmatizer()\n",
    "arabic_lemmatizer = lemmatizer.Lemmatizer()"
   ]
  },
  {
   "cell_type": "code",
   "execution_count": 40,
   "metadata": {},
   "outputs": [],
   "source": [
    "def lemmatize_word(word):\n",
    "    try:\n",
    "        lang = detect(word)\n",
    "    except:\n",
    "        return word\n",
    "    \n",
    "    if lang == 'en':\n",
    "        return wordnet_lemmatizer.lemmatize(word)\n",
    "    elif lang == 'ar':\n",
    "        return arabic_lemmatizer.lemmatize(word)\n",
    "    else:\n",
    "        return word\n",
    "\n",
    "def lemmatize_multilingual_text(text):\n",
    "    lemmatized_words = [lemmatize_word(word) for word in text.split()]\n",
    "    return ' '.join(lemmatized_words)"
   ]
  },
  {
   "cell_type": "code",
   "execution_count": 41,
   "metadata": {},
   "outputs": [],
   "source": [
    "def preprocess(text):\n",
    "    text = remove_punctuation(text)\n",
    "    text = remove_digits(text)\n",
    "    text = remove_diacritics(text)\n",
    "    text = normalize_arabic(text)\n",
    "    text = remove_repeating_char(text)\n",
    "    text = remove_long_words(text)\n",
    "    text = remove_stopwords(text)\n",
    "    text = replace_emojis(text)\n",
    "    # Remove unhandled emojis/invalid characters\n",
    "    text = re.sub(r'[^\\w\\s]','', text)\n",
    "    # Collapse any consecutive spaces to a single space\n",
    "    text = re.sub('\\s+', ' ', text).strip()\n",
    "    text = lemmatize_multilingual_text(text)\n",
    "    return text"
   ]
  },
  {
   "cell_type": "code",
   "execution_count": 42,
   "metadata": {},
   "outputs": [],
   "source": [
    "data['preprocessed_review'] = data['preprocessed_review'].apply(preprocess)"
   ]
  },
  {
   "cell_type": "code",
   "execution_count": 43,
   "metadata": {},
   "outputs": [],
   "source": [
    "# Extract a feature\n",
    "data['preprocessed_review_length'] = data['preprocessed_review'].apply(len)"
   ]
  },
  {
   "cell_type": "code",
   "execution_count": 44,
   "metadata": {},
   "outputs": [
    {
     "name": "stdout",
     "output_type": "stream",
     "text": [
      "0\n",
      "0\n"
     ]
    }
   ],
   "source": [
    "# Check duplicates and nulls again (if a review became empty)\n",
    "print(data['preprocessed_review'].isnull().sum())\n",
    "print(data.duplicated().sum())"
   ]
  },
  {
   "cell_type": "code",
   "execution_count": 45,
   "metadata": {},
   "outputs": [
    {
     "data": {
      "text/html": [
       "<div>\n",
       "<style scoped>\n",
       "    .dataframe tbody tr th:only-of-type {\n",
       "        vertical-align: middle;\n",
       "    }\n",
       "\n",
       "    .dataframe tbody tr th {\n",
       "        vertical-align: top;\n",
       "    }\n",
       "\n",
       "    .dataframe thead th {\n",
       "        text-align: right;\n",
       "    }\n",
       "</style>\n",
       "<table border=\"1\" class=\"dataframe\">\n",
       "  <thead>\n",
       "    <tr style=\"text-align: right;\">\n",
       "      <th></th>\n",
       "      <th>ID</th>\n",
       "      <th>review_description</th>\n",
       "      <th>preprocessed_review</th>\n",
       "      <th>preprocessed_review_length</th>\n",
       "    </tr>\n",
       "  </thead>\n",
       "  <tbody>\n",
       "    <tr>\n",
       "      <th>0</th>\n",
       "      <td>1</td>\n",
       "      <td>اهنئكم على خدمه العملاء في المحادثه المباشره م...</td>\n",
       "      <td>اهنءكم علي خدم عملاء المحادثه المباشره قصر الل...</td>\n",
       "      <td>66</td>\n",
       "    </tr>\n",
       "    <tr>\n",
       "      <th>1</th>\n",
       "      <td>2</td>\n",
       "      <td>ممتاز جدا ولكن اتمنى ان تكون هناك بعض المسابقا...</td>\n",
       "      <td>ممتاز جدا اتمني ان تكون مسابق والجواءز طلبة ال...</td>\n",
       "      <td>75</td>\n",
       "    </tr>\n",
       "    <tr>\n",
       "      <th>2</th>\n",
       "      <td>3</td>\n",
       "      <td>كل محملته يقول تم ايقاف حطيت2 عشان تسوون الخطاء</td>\n",
       "      <td>محمل أقول تم ايقاف حطا عش تسوى خطاء</td>\n",
       "      <td>35</td>\n",
       "    </tr>\n",
       "    <tr>\n",
       "      <th>3</th>\n",
       "      <td>4</td>\n",
       "      <td>شغل طيب</td>\n",
       "      <td>شغل طيب</td>\n",
       "      <td>7</td>\n",
       "    </tr>\n",
       "    <tr>\n",
       "      <th>4</th>\n",
       "      <td>5</td>\n",
       "      <td>بعد ماجربت</td>\n",
       "      <td>ماجربت</td>\n",
       "      <td>6</td>\n",
       "    </tr>\n",
       "  </tbody>\n",
       "</table>\n",
       "</div>"
      ],
      "text/plain": [
       "   ID                                 review_description  \\\n",
       "0   1  اهنئكم على خدمه العملاء في المحادثه المباشره م...   \n",
       "1   2  ممتاز جدا ولكن اتمنى ان تكون هناك بعض المسابقا...   \n",
       "2   3    كل محملته يقول تم ايقاف حطيت2 عشان تسوون الخطاء   \n",
       "3   4                                            شغل طيب   \n",
       "4   5                                         بعد ماجربت   \n",
       "\n",
       "                                 preprocessed_review  \\\n",
       "0  اهنءكم علي خدم عملاء المحادثه المباشره قصر الل...   \n",
       "1  ممتاز جدا اتمني ان تكون مسابق والجواءز طلبة ال...   \n",
       "2                محمل أقول تم ايقاف حطا عش تسوى خطاء   \n",
       "3                                            شغل طيب   \n",
       "4                                             ماجربت   \n",
       "\n",
       "   preprocessed_review_length  \n",
       "0                          66  \n",
       "1                          75  \n",
       "2                          35  \n",
       "3                           7  \n",
       "4                           6  "
      ]
     },
     "execution_count": 45,
     "metadata": {},
     "output_type": "execute_result"
    }
   ],
   "source": [
    "data.head()"
   ]
  },
  {
   "cell_type": "code",
   "execution_count": 46,
   "metadata": {},
   "outputs": [],
   "source": [
    "data.to_csv(\"preprocessed_test.csv\")"
   ]
  },
  {
   "cell_type": "markdown",
   "metadata": {},
   "source": [
    "### EDA"
   ]
  },
  {
   "cell_type": "code",
   "execution_count": 47,
   "metadata": {},
   "outputs": [],
   "source": [
    "# # Sentiment Distribution\n",
    "# sentiment_counts = data['rating'].value_counts()\n",
    "\n",
    "# # Review Length Analysis\n",
    "# data['review_length'] = data['review_description'].apply(len)\n",
    "\n",
    "# # Plotting the sentiment distribution\n",
    "# plt.figure(figsize=(10, 5))\n",
    "# sns.barplot(x=sentiment_counts.index, y=sentiment_counts.values)\n",
    "# plt.title('Sentiment Distribution')\n",
    "# plt.xlabel('Sentiment')\n",
    "# plt.ylabel('Number of Reviews')\n",
    "# plt.xticks(ticks=[0, 1, 2], labels=['Negative (-1)', 'Neutral (0)', 'Positive (1)'])\n",
    "# plt.show()\n",
    "\n",
    "# # Plotting the distribution of review lengths\n",
    "# plt.figure(figsize=(10, 5))\n",
    "# sns.histplot(data['review_length'], bins=50)\n",
    "# plt.title('Review Length Distribution')\n",
    "# plt.xlabel('Review Length (characters)')\n",
    "# plt.ylabel('Number of Reviews')\n",
    "# plt.show()"
   ]
  },
  {
   "cell_type": "code",
   "execution_count": 48,
   "metadata": {},
   "outputs": [],
   "source": [
    "# sentiment_counts"
   ]
  },
  {
   "cell_type": "code",
   "execution_count": 49,
   "metadata": {},
   "outputs": [],
   "source": [
    "# data['review_length'].describe()"
   ]
  }
 ],
 "metadata": {
  "kernelspec": {
   "display_name": "Python 3",
   "language": "python",
   "name": "python3"
  },
  "language_info": {
   "codemirror_mode": {
    "name": "ipython",
    "version": 3
   },
   "file_extension": ".py",
   "mimetype": "text/x-python",
   "name": "python",
   "nbconvert_exporter": "python",
   "pygments_lexer": "ipython3",
   "version": "3.11.5"
  }
 },
 "nbformat": 4,
 "nbformat_minor": 2
}
